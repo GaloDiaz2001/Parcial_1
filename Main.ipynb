{
 "cells": [
  {
   "cell_type": "code",
   "execution_count": null,
   "id": "e24dd86b-139a-4fa5-a519-5ebe44435614",
   "metadata": {},
   "outputs": [],
   "source": [
    "import numpy as np\n",
    "import math as math\n",
    "import matplotlib.pyplot as plt\n",
    "import numpy as np\n",
    "from mpl_toolkits.mplot3d import Axes3D"
   ]
  },
  {
   "cell_type": "code",
   "execution_count": null,
   "id": "b2d74343-a2f5-41fc-8527-2244b37386e4",
   "metadata": {},
   "outputs": [],
   "source": [
    "%load_ext autoreload\n",
    "    \n",
    "%autoreload 2"
   ]
  },
  {
   "cell_type": "code",
   "execution_count": null,
   "id": "c79897e8-70a7-4041-98d8-b65c302780ba",
   "metadata": {},
   "outputs": [],
   "source": [
    "import kdv_solver as ode #ODES"
   ]
  },
  {
   "cell_type": "code",
   "execution_count": null,
   "id": "c478e04b-d3f7-42a2-8f22-24ae07a92d89",
   "metadata": {},
   "outputs": [],
   "source": [
    "\"Perfil 1\"\n",
    "# Parámetros\n",
    "L = 50              # Longitud del dominio espacial\n",
    "T = 10             # Tiempo total \n",
    "Nx = 50            # Número de puntos \n",
    "Nt = 100            # Número de pasos \n",
    "dx = 2*L / (Nx - 1)   # Tamaño de paso espacial\n",
    "dt = T / Nt         # Tamaño de paso temporal\n",
    "# Condiciones iniciales y de frontera\n",
    "x = np.linspace(-L, L, Nx)\n",
    "u = 2/(np.cosh(x)**2) \n",
    "ymax = np.max(u) +0.5 #El límite superior de la gráfica. (Estético)\n",
    "#graficamos el perfil inicial\n",
    "plt.plot(x ,u, 'ro--')\n",
    "plt.xlim([-L,L])\n",
    "plt.ylim([-0.5,ymax])\n",
    "plt.grid()\n",
    "plt.savefig(f'frame{0}')\n",
    "plt.show()\n",
    "# Matriz para almacenar resultados, lo necesitamos para hacer el gráfico 3D\n",
    "u_result = np.zeros((Nt, Nx))\n",
    "u_result[0, :] = u\n",
    "\n",
    "# Resolvemos\n",
    "ode.kdv_sol(u_result,x,Nx,Nt,L,ymax,u,dx,dt)\n",
    "\n",
    "#GRÁFICO 3D\n",
    "X, Y = np.meshgrid(x, np.linspace(0, T, Nt))\n",
    "fig = plt.figure(figsize=(10, 7))\n",
    "ax = fig.add_subplot(111, projection='3d')\n",
    "ax.plot_surface(X, Y, u_result, cmap='viridis', edgecolor='none')\n",
    "ax.set_xlabel('Espacio')\n",
    "ax.set_ylabel('Tiempo')\n",
    "ax.set_zlabel('u')\n",
    "ax.set_title('Evolución de u en el tiempo (3D)')\n",
    "plt.savefig(\"Perfil 1 3D\")\n",
    "plt.show()"
   ]
  },
  {
   "cell_type": "code",
   "execution_count": null,
   "id": "e61a51a4-8233-45a5-933d-721f4fa83c92",
   "metadata": {},
   "outputs": [],
   "source": [
    "\"Perfil 2\"\n",
    "# Parámetros\n",
    "L = 30              # Longitud del dominio espacial\n",
    "T = 1.5             # Tiempo total \n",
    "Nx = 100            # Número de puntos \n",
    "Nt = 150            # Número de pasos \n",
    "dx = 2*L / (Nx - 1)   # Tamaño de paso espacial\n",
    "dt = T / Nt         # Tamaño de paso temporal\n",
    "# Condiciones iniciales y de frontera\n",
    "x = np.linspace(-L, L, Nx)\n",
    "u = 8/(np.cosh(2*x+16)**2) + 2/(np.cosh(x+1)**2)\n",
    "ymax = np.max(u) +0.5 #El límite superior de la gráfica. (Estético)\n",
    "#graficamos el perfil inicial\n",
    "plt.plot(x ,u, 'ro--')\n",
    "plt.xlim([-L,L])\n",
    "plt.ylim([-0.5,ymax])\n",
    "plt.grid()\n",
    "plt.savefig(f'frame{0}')\n",
    "plt.show()\n",
    "# Matriz para almacenar resultados, lo necesitamos para hacer el gráfico 3D\n",
    "u_result = np.zeros((Nt, Nx))\n",
    "u_result[0, :] = u\n",
    "\n",
    "# Resolvemos\n",
    "ode.kdv_sol(u_result,x,Nx,Nt,L,ymax,u,dx,dt)\n",
    "\n",
    "#GRÁFICO 3D\n",
    "X, Y = np.meshgrid(x, np.linspace(0, T, Nt))\n",
    "fig = plt.figure(figsize=(10, 7))\n",
    "ax = fig.add_subplot(111, projection='3d')\n",
    "ax.plot_surface(X, Y, u_result, cmap='viridis', edgecolor='none')\n",
    "ax.set_xlabel('Espacio')\n",
    "ax.set_ylabel('Tiempo')\n",
    "ax.set_zlabel('u')\n",
    "ax.set_title('Evolución de u en el tiempo (3D)')\n",
    "plt.savefig(\"Perfil 2 3D\")\n",
    "plt.show()"
   ]
  },
  {
   "cell_type": "code",
   "execution_count": null,
   "id": "0eb7f374-bb35-4ad8-a5cf-9710a2994cc8",
   "metadata": {},
   "outputs": [],
   "source": []
  }
 ],
 "metadata": {
  "kernelspec": {
   "display_name": "Python 3 (ipykernel)",
   "language": "python",
   "name": "python3"
  },
  "language_info": {
   "codemirror_mode": {
    "name": "ipython",
    "version": 3
   },
   "file_extension": ".py",
   "mimetype": "text/x-python",
   "name": "python",
   "nbconvert_exporter": "python",
   "pygments_lexer": "ipython3",
   "version": "3.12.2"
  }
 },
 "nbformat": 4,
 "nbformat_minor": 5
}
